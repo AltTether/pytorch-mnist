{
 "cells": [
  {
   "cell_type": "markdown",
   "metadata": {},
   "source": [
    "## pytorch getting started\n",
    "https://pytorch.org/tutorials/beginner/blitz/tensor_tutorial.html#sphx-glr-beginner-blitz-tensor-tutorial-py"
   ]
  },
  {
   "cell_type": "code",
   "execution_count": 1,
   "metadata": {},
   "outputs": [],
   "source": [
    "from __future__ import print_function\n",
    "\n",
    "import torch"
   ]
  },
  {
   "cell_type": "code",
   "execution_count": 11,
   "metadata": {},
   "outputs": [
    {
     "data": {
      "text/plain": [
       "tensor([[-6.8950e+27,  4.5720e-41, -6.8950e+27],\n",
       "        [ 4.5720e-41,  2.2705e-01,  7.2974e-01],\n",
       "        [ 8.0462e-01,  7.2471e-01,  6.9550e-02],\n",
       "        [ 6.3500e-01,  3.3174e-02,  7.0366e-01],\n",
       "        [ 9.7294e-01,  7.0330e-01,  7.0387e-01]])"
      ]
     },
     "execution_count": 11,
     "metadata": {},
     "output_type": "execute_result"
    }
   ],
   "source": [
    "x = torch.empty(5, 3)\n",
    "\n",
    "x"
   ]
  },
  {
   "cell_type": "code",
   "execution_count": 10,
   "metadata": {},
   "outputs": [
    {
     "data": {
      "text/plain": [
       "tensor([[0.1080, 0.0735, 0.0173],\n",
       "        [0.4415, 0.2270, 0.7297],\n",
       "        [0.8046, 0.7247, 0.0695],\n",
       "        [0.6350, 0.0332, 0.7037],\n",
       "        [0.9729, 0.7033, 0.7039]])"
      ]
     },
     "execution_count": 10,
     "metadata": {},
     "output_type": "execute_result"
    }
   ],
   "source": [
    "y = torch.rand(5, 3)\n",
    "\n",
    "y"
   ]
  },
  {
   "cell_type": "code",
   "execution_count": 6,
   "metadata": {},
   "outputs": [
    {
     "data": {
      "text/plain": [
       "torch.Size([5, 3])"
      ]
     },
     "execution_count": 6,
     "metadata": {},
     "output_type": "execute_result"
    }
   ],
   "source": [
    "y.size()"
   ]
  },
  {
   "cell_type": "code",
   "execution_count": 12,
   "metadata": {},
   "outputs": [
    {
     "data": {
      "text/plain": [
       "tensor([[-6.8950e+27,  7.3508e-02, -6.8950e+27],\n",
       "        [ 4.4145e-01,  4.5409e-01,  1.4595e+00],\n",
       "        [ 1.6092e+00,  1.4494e+00,  1.3910e-01],\n",
       "        [ 1.2700e+00,  6.6349e-02,  1.4073e+00],\n",
       "        [ 1.9459e+00,  1.4066e+00,  1.4077e+00]])"
      ]
     },
     "execution_count": 12,
     "metadata": {},
     "output_type": "execute_result"
    }
   ],
   "source": [
    "x + y"
   ]
  },
  {
   "cell_type": "code",
   "execution_count": 13,
   "metadata": {},
   "outputs": [
    {
     "data": {
      "text/plain": [
       "tensor([[-6.8950e+27,  7.3508e-02, -6.8950e+27],\n",
       "        [ 4.4145e-01,  4.5409e-01,  1.4595e+00],\n",
       "        [ 1.6092e+00,  1.4494e+00,  1.3910e-01],\n",
       "        [ 1.2700e+00,  6.6349e-02,  1.4073e+00],\n",
       "        [ 1.9459e+00,  1.4066e+00,  1.4077e+00]])"
      ]
     },
     "execution_count": 13,
     "metadata": {},
     "output_type": "execute_result"
    }
   ],
   "source": [
    "torch.add(x, y)"
   ]
  },
  {
   "cell_type": "code",
   "execution_count": 18,
   "metadata": {},
   "outputs": [
    {
     "data": {
      "text/plain": [
       "tensor([[-6.8950e+27,  7.3508e-02, -6.8950e+27],\n",
       "        [ 4.4145e-01,  4.5409e-01,  1.4595e+00],\n",
       "        [ 1.6092e+00,  1.4494e+00,  1.3910e-01],\n",
       "        [ 1.2700e+00,  6.6349e-02,  1.4073e+00],\n",
       "        [ 1.9459e+00,  1.4066e+00,  1.4077e+00]])"
      ]
     },
     "execution_count": 18,
     "metadata": {},
     "output_type": "execute_result"
    }
   ],
   "source": [
    "result = torch.empty(5, 3)\n",
    "torch.add(x, y, out=result)\n",
    "\n",
    "result"
   ]
  },
  {
   "cell_type": "code",
   "execution_count": 20,
   "metadata": {},
   "outputs": [
    {
     "data": {
      "text/plain": [
       "(torch.Size([4, 4]), torch.Size([16]), torch.Size([2, 8]))"
      ]
     },
     "execution_count": 20,
     "metadata": {},
     "output_type": "execute_result"
    }
   ],
   "source": [
    "x = torch.randn(4, 4)\n",
    "y = x.view(16)\n",
    "z = x.view(-1, 8)\n",
    "x.size(), y.size(), z.size()"
   ]
  },
  {
   "cell_type": "code",
   "execution_count": 21,
   "metadata": {},
   "outputs": [
    {
     "data": {
      "text/plain": [
       "array([[-0.71466774, -0.4841901 ,  0.73054874, -1.4817328 ],\n",
       "       [-2.3562214 ,  0.7825239 ,  1.6976838 ,  0.64681125],\n",
       "       [ 0.6689326 ,  0.21224383, -1.4699931 , -0.6023307 ],\n",
       "       [ 0.77160865, -0.1966304 ,  1.1696484 , -0.12227216]],\n",
       "      dtype=float32)"
      ]
     },
     "execution_count": 21,
     "metadata": {},
     "output_type": "execute_result"
    }
   ],
   "source": [
    "x.numpy()"
   ]
  },
  {
   "cell_type": "code",
   "execution_count": 22,
   "metadata": {},
   "outputs": [
    {
     "data": {
      "text/plain": [
       "tensor([1., 1., 1., 1., 1.], dtype=torch.float64)"
      ]
     },
     "execution_count": 22,
     "metadata": {},
     "output_type": "execute_result"
    }
   ],
   "source": [
    "import numpy as np\n",
    "\n",
    "a = np.ones(5)\n",
    "torch.from_numpy(a)"
   ]
  },
  {
   "cell_type": "code",
   "execution_count": null,
   "metadata": {},
   "outputs": [],
   "source": []
  }
 ],
 "metadata": {
  "kernelspec": {
   "display_name": "Python 3",
   "language": "python",
   "name": "python3"
  },
  "language_info": {
   "codemirror_mode": {
    "name": "ipython",
    "version": 3
   },
   "file_extension": ".py",
   "mimetype": "text/x-python",
   "name": "python",
   "nbconvert_exporter": "python",
   "pygments_lexer": "ipython3",
   "version": "3.6.8"
  }
 },
 "nbformat": 4,
 "nbformat_minor": 2
}
